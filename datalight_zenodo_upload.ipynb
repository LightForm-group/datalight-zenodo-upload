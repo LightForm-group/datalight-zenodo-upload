{
 "cells": [
  {
   "cell_type": "code",
   "execution_count": null,
   "id": "40d246d3",
   "metadata": {},
   "outputs": [],
   "source": [
    "import sys\n",
    "print(sys.executable)\n",
    "print(sys.version_info)\n",
    "sys.path.append(\"../datalight\") # append the path to datalight (not needed if already pip installed)"
   ]
  },
  {
   "cell_type": "code",
   "execution_count": null,
   "id": "c2ad4a72",
   "metadata": {},
   "outputs": [],
   "source": [
    "import datalight\n",
    "from datalight.main import upload_record\n",
    "import yaml as yaml\n",
    "from pathlib import Path"
   ]
  },
  {
   "cell_type": "markdown",
   "id": "c85f2766",
   "metadata": {},
   "source": [
    "### Upload to Zenodo using YAML"
   ]
  },
  {
   "cell_type": "markdown",
   "id": "9863096b",
   "metadata": {},
   "source": [
    "Use the `get_config` function to access information in the `yaml` file."
   ]
  },
  {
   "cell_type": "code",
   "execution_count": null,
   "id": "2f204177",
   "metadata": {},
   "outputs": [],
   "source": [
    "def get_config(path: str) -> dict:\n",
    "    \"\"\"Open a yaml file and return the contents.\"\"\"\n",
    "    with open(path) as input_file:\n",
    "        return yaml.safe_load(input_file)"
   ]
  },
  {
   "cell_type": "markdown",
   "id": "b712d836",
   "metadata": {},
   "source": [
    "Enter the path to the yaml file."
   ]
  },
  {
   "cell_type": "code",
   "execution_count": null,
   "id": "17243157",
   "metadata": {},
   "outputs": [],
   "source": [
    "config_path_yaml = \"yaml/sxrd_raw_data_diamond_2021.yaml\""
   ]
  },
  {
   "cell_type": "markdown",
   "id": "2220bf85",
   "metadata": {},
   "source": [
    "Then, upload the configuration path, file paths and repository metadata."
   ]
  },
  {
   "cell_type": "code",
   "execution_count": null,
   "id": "2be86875",
   "metadata": {
    "scrolled": true
   },
   "outputs": [],
   "source": [
    "config_yaml = get_config(config_path_yaml)\n",
    "\n",
    "config_path = Path(config_yaml[\"config_path\"])\n",
    "print(\"Zenodo configuration file exists?\", config_path.is_file())\n",
    "\n",
    "deposit_ID = config_yaml[\"deposit_ID\"]\n",
    "if deposit_ID:\n",
    "    print(\"Data will upload to existing record, number: \", deposit_ID)\n",
    "else:\n",
    "    print(\"Data will upload to a new record\")\n",
    "\n",
    "file_paths = config_yaml[\"file_paths\"]\n",
    "\n",
    "repository_metadata = config_yaml[\"repository_metadata\"]"
   ]
  },
  {
   "cell_type": "markdown",
   "id": "7ec56c7e",
   "metadata": {},
   "source": [
    "And upload the record to Zenodo.\n",
    "\n",
    "*Note, if uploading to Zenodo (rather than Zenodo Sandbox), be sure to check the;*\n",
    "- **config path** *- refer to the Zenodo key rather than the Zenodo Sandbox key eg. datalight.txt rather than datalight_sandbox.txt*\n",
    "- **communities identifier** *- LightForm community not set up on Zenodo Sandbox! But, is set up on Zenodo.*\n",
    "- **deposit ID** *- different on Zenodo Sandbox and Zenodo. Set to 'False' if creating a new upload.*\n",
    "- **`upload_record` function** *- set sandbox as 'False'.*"
   ]
  },
  {
   "cell_type": "code",
   "execution_count": null,
   "id": "b755b053",
   "metadata": {},
   "outputs": [],
   "source": [
    "upload_record(file_paths, repository_metadata, config_path, sandbox=False, deposition_ID = deposit_ID)"
   ]
  },
  {
   "cell_type": "code",
   "execution_count": null,
   "id": "b4fbe93f",
   "metadata": {},
   "outputs": [],
   "source": []
  }
 ],
 "metadata": {
  "kernelspec": {
   "display_name": "Python 3 (ipykernel)",
   "language": "python",
   "name": "python3"
  },
  "language_info": {
   "codemirror_mode": {
    "name": "ipython",
    "version": 3
   },
   "file_extension": ".py",
   "mimetype": "text/x-python",
   "name": "python",
   "nbconvert_exporter": "python",
   "pygments_lexer": "ipython3",
   "version": "3.7.3"
  }
 },
 "nbformat": 4,
 "nbformat_minor": 5
}
