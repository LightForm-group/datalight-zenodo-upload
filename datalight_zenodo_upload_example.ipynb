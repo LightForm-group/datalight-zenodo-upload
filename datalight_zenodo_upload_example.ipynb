{
 "cells": [
  {
   "cell_type": "code",
   "execution_count": null,
   "id": "93341693",
   "metadata": {},
   "outputs": [],
   "source": [
    "import sys\n",
    "print(sys.executable)\n",
    "print(sys.version_info)\n",
    "sys.path.append(\"../datalight\") # append the path to datalight (not needed if already pip installed)"
   ]
  },
  {
   "cell_type": "code",
   "execution_count": null,
   "id": "e6098edd",
   "metadata": {},
   "outputs": [],
   "source": [
    "import datalight\n",
    "from datalight.main import upload_record\n",
    "import yaml as yaml\n",
    "from pathlib import Path"
   ]
  },
  {
   "cell_type": "markdown",
   "id": "0469850a",
   "metadata": {},
   "source": [
    "### Example: Upload to Zenodo Sandbox"
   ]
  },
  {
   "cell_type": "markdown",
   "id": "9b196efb",
   "metadata": {},
   "source": [
    "Import your personal token. This is needed to upload data to your Zenodo Sandbox account. \n",
    "\n",
    "*Note, Zenodo Sandbox is useful for testing purposes.*\n",
    "\n",
    "*Note, see [here](https://datalight.readthedocs.io/en/latest/) for more information on obtaining the personal token from Zenodo. And be sure to click both deposit:actions and deposit:write allowances.*"
   ]
  },
  {
   "cell_type": "code",
   "execution_count": null,
   "id": "94dcacab",
   "metadata": {},
   "outputs": [],
   "source": [
    "config_path = Path(\"datalight_sandbox.txt\")\n",
    "print(\"Zenodo configuration file exists?\", config_path.is_file())"
   ]
  },
  {
   "cell_type": "markdown",
   "id": "076452fc",
   "metadata": {},
   "source": [
    "Define the path to the data to upload."
   ]
  },
  {
   "cell_type": "code",
   "execution_count": null,
   "id": "298c5e25",
   "metadata": {},
   "outputs": [],
   "source": [
    "file_paths = [\n",
    "    'test.txt'\n",
    "]"
   ]
  },
  {
   "cell_type": "markdown",
   "id": "9898a838",
   "metadata": {},
   "source": [
    "Define the metadata for the data repository. "
   ]
  },
  {
   "cell_type": "code",
   "execution_count": null,
   "id": "33dd5bd8",
   "metadata": {},
   "outputs": [],
   "source": [
    "repository_metadata = {\n",
    "    'title': \"Test\",\n",
    "    'description': \"Description.\",\n",
    "    'keywords': [\n",
    "        \"metal\", \n",
    "        \"microstructure\"\n",
    "    ],\n",
    "    'upload_type': \"dataset\", #note, lower case\n",
    "    'creators': [\n",
    "        {\n",
    "            'name': \"Daniel, Christopher Stuart\", # note, family name, given names format\n",
    "            'affiliation': \"The University of Manchester\",\n",
    "            'orcid': \"0000-0002-5574-6833\",\n",
    "        },\n",
    "        {\n",
    "            'name': \"Daniel, Christopher Stuart\",\n",
    "            'affiliation': \"The University of Manchester\",\n",
    "            'orcid': \"0000-0002-5574-6833\",\n",
    "        },\n",
    "    ],\n",
    "    'access_right': \"open\", #note, lower case\n",
    "    'license': \"CC-BY-4.0\",\n",
    "    #'communities': [{'identifier': \"lightform\"}], #<-- TEMP lightform community not set up on sandbox!\n",
    "    'grants': [{'id': \"10.13039/501100000690::EP/R001715/1\"}],\n",
    "}"
   ]
  },
  {
   "cell_type": "code",
   "execution_count": null,
   "id": "0a256341",
   "metadata": {},
   "outputs": [],
   "source": [
    "repository_metadata"
   ]
  },
  {
   "cell_type": "markdown",
   "id": "a8ae981b",
   "metadata": {},
   "source": [
    "Upload the record."
   ]
  },
  {
   "cell_type": "code",
   "execution_count": null,
   "id": "426839fd",
   "metadata": {},
   "outputs": [],
   "source": [
    "upload_record(file_paths, repository_metadata, config_path, sandbox=True)"
   ]
  },
  {
   "cell_type": "markdown",
   "id": "2e9a311d",
   "metadata": {},
   "source": [
    "### Example: Upload Additional Data to a Record"
   ]
  },
  {
   "cell_type": "markdown",
   "id": "4aeee70c",
   "metadata": {},
   "source": [
    "If you want to upload additional data to an already existing record you can use the unique deposit identification number, found in the web address e.g. `https://sandbox.zenodo.org/deposit/1125357`.\n",
    "\n",
    "*Note, data cannot have the same name, otherwise it will not upload.*"
   ]
  },
  {
   "cell_type": "code",
   "execution_count": null,
   "id": "5c9fadcc",
   "metadata": {},
   "outputs": [],
   "source": [
    "deposit_ID = 1125357\n",
    "\n",
    "upload_record(file_paths, repository_metadata, config_path, sandbox=True, deposition_ID = deposit_ID)"
   ]
  },
  {
   "cell_type": "markdown",
   "id": "5c4c3faa",
   "metadata": {},
   "source": [
    "### Example: Upload to Zenodo Sandbox using YAML"
   ]
  },
  {
   "cell_type": "markdown",
   "id": "1bb05c8c",
   "metadata": {},
   "source": [
    "The configuration path, file paths and repository metadata can also be written within a single YAML text file. This might help to make it easier to upload to Zenodo, and it keeps a nice record of previous uploads.\n",
    "\n",
    "The information in the `yaml` files can be accessed using the `get_config` function."
   ]
  },
  {
   "cell_type": "code",
   "execution_count": null,
   "id": "49ee7fa5",
   "metadata": {},
   "outputs": [],
   "source": [
    "def get_config(path: str) -> dict:\n",
    "    \"\"\"Open a yaml file and return the contents.\"\"\"\n",
    "    with open(path) as input_file:\n",
    "        return yaml.safe_load(input_file)"
   ]
  },
  {
   "cell_type": "markdown",
   "id": "c29401a6",
   "metadata": {},
   "source": [
    "Enter the path to the yaml file."
   ]
  },
  {
   "cell_type": "code",
   "execution_count": null,
   "id": "d7fa9543",
   "metadata": {},
   "outputs": [],
   "source": [
    "config_path_yaml = \"yaml/test2.yaml\""
   ]
  },
  {
   "cell_type": "markdown",
   "id": "61b5bab9",
   "metadata": {},
   "source": [
    "Then, upload the configuration path, file paths and repository metadata."
   ]
  },
  {
   "cell_type": "code",
   "execution_count": null,
   "id": "2fc1e8a6",
   "metadata": {},
   "outputs": [],
   "source": [
    "config_yaml = get_config(config_path_yaml)\n",
    "\n",
    "config_path = Path(config_yaml[\"config_path\"])\n",
    "print(\"Zenodo configuration file exists?\", config_path.is_file())\n",
    "\n",
    "deposit_ID = config_yaml[\"deposit_ID\"]\n",
    "if deposit_ID:\n",
    "    print(\"Data will upload to existing record, number: \", deposit_ID)\n",
    "else:\n",
    "    print(\"Data will upload to a new record\")\n",
    "\n",
    "file_paths = config_yaml[\"file_paths\"]\n",
    "\n",
    "repository_metadata = config_yaml[\"repository_metadata\"]"
   ]
  },
  {
   "cell_type": "markdown",
   "id": "ec268afe",
   "metadata": {},
   "source": [
    "And upload the record to Zenodo Sandbox."
   ]
  },
  {
   "cell_type": "code",
   "execution_count": null,
   "id": "7e610e20",
   "metadata": {},
   "outputs": [],
   "source": [
    "upload_record(file_paths, repository_metadata, config_path, sandbox=True, deposition_ID = deposit_ID)"
   ]
  },
  {
   "cell_type": "code",
   "execution_count": null,
   "id": "93b9b188",
   "metadata": {},
   "outputs": [],
   "source": []
  }
 ],
 "metadata": {
  "kernelspec": {
   "display_name": "Python 3 (ipykernel)",
   "language": "python",
   "name": "python3"
  },
  "language_info": {
   "codemirror_mode": {
    "name": "ipython",
    "version": 3
   },
   "file_extension": ".py",
   "mimetype": "text/x-python",
   "name": "python",
   "nbconvert_exporter": "python",
   "pygments_lexer": "ipython3",
   "version": "3.7.3"
  }
 },
 "nbformat": 4,
 "nbformat_minor": 5
}
